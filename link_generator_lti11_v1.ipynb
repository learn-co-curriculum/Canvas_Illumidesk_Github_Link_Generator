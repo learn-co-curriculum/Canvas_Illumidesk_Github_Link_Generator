{
 "cells": [
  {
   "cell_type": "markdown",
   "metadata": {},
   "source": [
    "# Create LTI launch requests to clone git-based repositories\n",
    "\n",
    "he following steps take place when the user clicks on a link when generates a launch request:\n",
    "\n",
    "1. A user session is initiated with the LTI launch request (LTI 1.1 or LTI 1.3)\n",
    "2. The git repository referred to in the link is made up to date in their home directory (keeping local changes if there are merge conflicts)\n",
    "3. They are shown the specific notebook / directory referred to in the link added to the launch request as a url encoded parameter\n",
    "\n",
    "\n",
    "## Canvas LMS: Assignment Links vs Custom Fields\n",
    "\n",
    "The Canvas LMS expects the assignment link to include URL encoded parameters since the request is sent to the External Tool as a POST request (in this case IllumiDesk is the External Tool). Custom Fields, on the other hand, are included with as a string win the `Application Settings` --> `Custom Fields` text box.\n",
    "\n",
    "To create an output for the Assignment Link, toggle the check box next to the `is_assignment_link` label. If unchecked, the tool will create astring to add to the Custom Field section."
   ]
  },
  {
   "cell_type": "code",
   "execution_count": 1,
   "metadata": {
    "execution": {
     "iopub.execute_input": "2020-06-22T14:19:05.216Z",
     "iopub.status.busy": "2020-06-22T14:19:05.214Z",
     "iopub.status.idle": "2020-06-22T14:19:05.265Z",
     "shell.execute_reply": "2020-06-22T14:19:05.275Z"
    }
   },
   "outputs": [
    {
     "data": {
      "application/vnd.jupyter.widget-view+json": {
       "model_id": "3d6c55ac8019479e8555073425b87eeb",
       "version_major": 2,
       "version_minor": 0
      },
      "text/plain": [
       "interactive(children=(Checkbox(value=True, description='is_assignment_link'), Text(value='https://flatiron.ill…"
      ]
     },
     "metadata": {},
     "output_type": "display_data"
    }
   ],
   "source": [
    "from ipywidgets import interact\n",
    "from urllib.parse import urlunparse, urlparse, urlencode, parse_qs\n",
    "from IPython.display import Markdown\n",
    "\n",
    "\n",
    "@interact\n",
    "def make_launch_link(is_assignment_link=True, domain_url='https://flatiron.illumidesk.com', repo_url='', branch='master', filepath='', app=['notebook', 'lab']):\n",
    "    \"\"\"\n",
    "    Generate a launch request which clones and merges source files from a git-based\n",
    "    repository.\n",
    "    \"\"\"\n",
    "    \n",
    "    # Parse the query to its constituent parts\n",
    "    scheme, netloc, path, params, query_str, fragment = urlparse(domain_url.strip())\n",
    "    \n",
    "    # nbgitpuller takes arguments via query parameters.\n",
    "    # However, your hub might already require query parameters to function (for example, to pick a profile to launch in)\n",
    "    # So we preserve the parameters we get & amend them to include the git-pull info we want\n",
    "    query = parse_qs(query_str, keep_blank_values=True)\n",
    "    \n",
    "    \n",
    "    # Make sure the path doesn't contain multiple slashes\n",
    "    if not path.endswith('/'):\n",
    "        path += '/'\n",
    "    path += 'user-redirect/git-pull'\n",
    "    assignment_link_path = f'/hub/lti/launch?next={path}'\n",
    "    path_url = f'next={path}'\n",
    "    \n",
    "    # Construct query parameters from \n",
    "    for name, val in [('repo', repo_url), ('branch', branch), ('subPath', filepath), ('app', app)]:\n",
    "        if len(val) > 0:\n",
    "            query[name] = val.strip().strip('/')\n",
    "    \n",
    "    assignment_link_url = urlunparse((scheme, netloc, assignment_link_path, params, urlencode(query, doseq=True), fragment))\n",
    "    path_url = urlunparse(('', '', path_url, params, urlencode(query, doseq=True), fragment))\n",
    "    \n",
    "    if is_assignment_link:\n",
    "        return assignment_link_url\n",
    "    return path_url\n",
    "    \n",
    "    "
   ]
  },
  {
   "cell_type": "code",
   "execution_count": null,
   "metadata": {},
   "outputs": [],
   "source": []
  }
 ],
 "metadata": {
  "kernelspec": {
   "display_name": "Python 3",
   "language": "python",
   "name": "python3"
  },
  "language_info": {
   "codemirror_mode": {
    "name": "ipython",
    "version": 3
   },
   "file_extension": ".py",
   "mimetype": "text/x-python",
   "name": "python",
   "nbconvert_exporter": "python",
   "pygments_lexer": "ipython3",
   "version": "3.7.6"
  },
  "nteract": {
   "version": "0.23.3"
  }
 },
 "nbformat": 4,
 "nbformat_minor": 4
}
