{
 "cells": [
  {
   "cell_type": "markdown",
   "metadata": {},
   "source": [
    "# Create LTI 1.1 launch requests to clone git-based repositories\n",
    "\n",
    "The following steps take place when the user clicks on a link when generates a launch request:\n",
    "\n",
    "1. A user session is initiated with the LTI 1.1 launch request.\n",
    "2. The git repository referred to in the link is cloned and merged into the users home directory.\n",
    "3. If a file path is added to the `urlpath` argument, then the user is redirected to the file specified by the path and file name.\n",
    "\n",
    "\n",
    "## Canvas LMS: Assignment Links vs Custom Fields\n",
    "\n",
    "The Canvas LMS expects the assignment link to include URL encoded parameters since the request is sent to the External Tool as a POST request (in this case IllumiDesk is the External Tool). However, all characters after the domain and `next=` part should be encoded, even those that are usually considered safe, such as `/`, `&`, and `=`.\n",
    "\n",
    "The `Custom Fields` text box in the `App -> Settings` section, on the other hand, does not expect all characters to be URL encoded. The `/` characters that are assigned as query parameter values should be encoded, but not the `&` and `=` characters.\n",
    "\n",
    "## Usage\n",
    "\n",
    "- **Assignment Link**: creates a string value which represents an `Assignment` link by toggling the check box next to the `is_assignment_link` label. If unchecked, the tool will create a string to add to the `Custom Field` section.\n",
    "- **Jupyter Lab Link**: creates a string value which redirects the user to a Jupyter Lab workspace instead of the Jupyter Classic Notebook workspace.\n",
    "- **LTI Launches**: adds the route associated to the LTI 1.1 handler. If disabled, it is assumed that the user is using the default authentication class bound to the root of the domain_url value.\n",
    "- **Default Values**: to avoid having to enter the same values in the widget's text fields on a repetitive basis, add the string values to the function's parameters. For example, the `branch` parameter defaults to `master`."
   ]
  },
  {
   "cell_type": "code",
   "execution_count": 1,
   "metadata": {
    "execution": {
     "iopub.execute_input": "2020-06-22T14:19:05.216Z",
     "iopub.status.busy": "2020-06-22T14:19:05.214Z",
     "iopub.status.idle": "2020-06-22T14:19:05.265Z",
     "shell.execute_reply": "2020-06-22T14:19:05.275Z"
    }
   },
   "outputs": [
    {
     "data": {
      "application/vnd.jupyter.widget-view+json": {
       "model_id": "7147bc89c9274be1804901c01baa454d",
       "version_major": 2,
       "version_minor": 0
      },
      "text/plain": [
       "interactive(children=(Checkbox(value=True, description='is_assignment_link'), Checkbox(value=True, description…"
      ]
     },
     "metadata": {},
     "output_type": "display_data"
    }
   ],
   "source": [
    "import os\n",
    "from ipywidgets import interact\n",
    "from urllib.parse import urlunparse, urlparse, urlencode, parse_qs, parse_qsl, quote\n",
    "from IPython.display import Markdown\n",
    "\n",
    "\n",
    "@interact\n",
    "def make_launch_link(is_assignment_link=True, is_jupyterlab=True, is_lti11=True, branch='master', illumidesk_url='https://flatiron.illumidesk.com', repo_url='', urlpath=''):\n",
    "    \"\"\"\n",
    "    Generate a launch request which clones and merges source files from a git-based\n",
    "    repository.\n",
    "    \"\"\"\n",
    "\n",
    "    # Parse the query to its constituent parts\n",
    "    domain_scheme, domain_netloc, domain_path, domain_params, domain_query_str, domain_fragment = urlparse(illumidesk_url.strip())\n",
    "    \n",
    "    repo_scheme, repo_netloc, repo_path, repo_params, repo_query_str, repo_fragment = urlparse(repo_url.strip())\n",
    "    folder_from_repo_url_path = os.path.basename(os.path.normpath(repo_path))\n",
    "    \n",
    "    # Make sure the path doesn't contain multiple slashes\n",
    "    if not domain_path.endswith('/'):\n",
    "        domain_path += '/'\n",
    "    domain_path += 'user-redirect/git-pull'\n",
    "    \n",
    "    # With Canvas using LTI 11 Assignment launch requests all characters after the netloc are considered unsafe.\n",
    "    # When adding custom parameters within the App Settings -> Custom Fields section, only items after the \n",
    "    path_encoded = ''\n",
    "    if is_assignment_link:\n",
    "        path_encoded = quote(domain_path, safe='')\n",
    "    else:\n",
    "        path_encoded = quote(domain_path)\n",
    "\n",
    "    path_redirect_url = f'next={path_encoded}'\n",
    "    if is_lti11:\n",
    "        assignment_link_path = f'/hub/lti/launch?next={path_encoded}'\n",
    "    else:\n",
    "        assignment_link_path = f'/hub?next={path_encoded}'\n",
    "    \n",
    "    # Create a tuple of query params from original domain link\n",
    "    query_params_from_illumidesk_url = parse_qsl(domain_query_str, keep_blank_values=True)\n",
    "    \n",
    "    # Set path based on whether or not the user would like to spawn JupyterLab or Jupyter Classic\n",
    "    urlpath_workspace = ''\n",
    "    if is_jupyterlab:\n",
    "        urlpath_workspace = f'lab/tree/{folder_from_repo_url_path}/{urlpath}?autodecode'\n",
    "    else:\n",
    "        urlpath_workspace = f'tree/{folder_from_repo_url_path}/{urlpath}'\n",
    "    \n",
    "    # Create a tuple of query params for git functionality. Check whether or not we want to launch with\n",
    "    # jupyterlab to add additional items to the path.\n",
    "    query_params_for_git = [('repo', repo_url), ('branch', branch), ('urlpath', urlpath_workspace)]\n",
    "    \n",
    "    # Merge query params into one list of tuples\n",
    "    query_params_all = query_params_from_illumidesk_url + query_params_for_git\n",
    "    \n",
    "    # First build urlencoded query params where the &, =, and / are considered safe. Then, percent encode\n",
    "    # all characters.\n",
    "    encoded_query_params = urlencode(query_params_all)\n",
    "    encoded_query_params_without_safe_chars = quote(urlencode(query_params_all), safe='')\n",
    "    \n",
    "    assignment_link_url = urlunparse((domain_scheme, domain_netloc, assignment_link_path, domain_params, encoded_query_params_without_safe_chars, domain_fragment))\n",
    "    path_url = urlunparse(('', '', path_redirect_url, domain_params, encoded_query_params, domain_fragment))\n",
    "    \n",
    "    if is_assignment_link:\n",
    "        return assignment_link_url\n",
    "    return path_url\n"
   ]
  },
  {
   "cell_type": "code",
   "execution_count": null,
   "metadata": {},
   "outputs": [],
   "source": []
  }
 ],
 "metadata": {
  "kernelspec": {
   "display_name": "Python 3",
   "language": "python",
   "name": "python3"
  },
  "language_info": {
   "codemirror_mode": {
    "name": "ipython",
    "version": 3
   },
   "file_extension": ".py",
   "mimetype": "text/x-python",
   "name": "python",
   "nbconvert_exporter": "python",
   "pygments_lexer": "ipython3",
   "version": "3.8.1"
  },
  "nteract": {
   "version": "0.23.3"
  }
 },
 "nbformat": 4,
 "nbformat_minor": 4
}
