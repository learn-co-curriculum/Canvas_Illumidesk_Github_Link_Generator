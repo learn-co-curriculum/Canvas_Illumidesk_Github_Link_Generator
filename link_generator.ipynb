{
 "cells": [
  {
   "cell_type": "markdown",
   "metadata": {},
   "source": [
    "# Create LTI launch requests to clone git-based repositories\n",
    "\n",
    "he following steps take place when the user clicks on a link when generates a launch request:\n",
    "\n",
    "1. A user session is initiated with the LTI launch request (LTI 1.1 or LTI 1.3)\n",
    "2. The git repository referred to in the link is made up to date in their home directory (keeping local changes if there are merge conflicts)\n",
    "3. They are shown the specific notebook / directory referred to in the link added to the launch request as a url encoded parameter"
   ]
  },
  {
   "cell_type": "code",
   "execution_count": 26,
   "metadata": {
    "execution": {
     "iopub.execute_input": "2020-06-22T14:19:05.216Z",
     "iopub.status.busy": "2020-06-22T14:19:05.214Z",
     "iopub.status.idle": "2020-06-22T14:19:05.265Z",
     "shell.execute_reply": "2020-06-22T14:19:05.275Z"
    }
   },
   "outputs": [
    {
     "data": {
      "application/vnd.jupyter.widget-view+json": {
       "model_id": "52d2ba9a576f40df8eff50ba72b9b538",
       "version_major": 2,
       "version_minor": 0
      },
      "text/plain": [
       "interactive(children=(Text(value='', description='repo_url'), Text(value='', description='branch'), Text(value…"
      ]
     },
     "metadata": {},
     "output_type": "display_data"
    }
   ],
   "source": [
    "from ipywidgets import interact\n",
    "from urllib.parse import urlunparse, urlparse, urlencode, parse_qs\n",
    "from IPython.display import Markdown\n",
    "\n",
    "@interact\n",
    "def make_nbgitpuller_link(repo_url='', branch='', filepath='', app=['notebook', 'lab']):\n",
    "    \"\"\"Generate an ipywidget form that creates an interact link.\"\"\"\n",
    "    \n",
    "    # Parse the query to its constituent parts\n",
    "    scheme, netloc, path, params, query_str, fragment = urlparse(hub_url.strip())\n",
    "    \n",
    "    # nbgitpuller takes arguments via query parameters.\n",
    "    # However, your hub might already require query parameters to function (for example, to pick a profile to launch in)\n",
    "    # So we preserve the parameters we get & amend them to include the git-pull info we want\n",
    "    query = parse_qs(query_str, keep_blank_values=True)\n",
    "    \n",
    "    \n",
    "    # Make sure the path doesn't contain multiple slashes\n",
    "    if not path.endswith('/'):\n",
    "        path += '/'\n",
    "    path += 'user-redirect/git-pull'\n",
    "    \n",
    "    # Construct query parameters from \n",
    "    for name, val in [('repo', repo_url), ('branch', branch), ('subPath', filepath), ('app', app)]:\n",
    "        if len(val) > 0:\n",
    "            query[name] = val.strip().strip('/')\n",
    "    \n",
    "    url = urlunparse((scheme, netloc, path, params, urlencode(query, doseq=True), fragment))\n",
    "    \n",
    "    return url"
   ]
  }
 ],
 "metadata": {
  "kernelspec": {
   "display_name": "Python 3",
   "language": "python",
   "name": "python3"
  },
  "language_info": {
   "codemirror_mode": {
    "name": "ipython",
    "version": 3
   },
   "file_extension": ".py",
   "mimetype": "text/x-python",
   "name": "python",
   "nbconvert_exporter": "python",
   "pygments_lexer": "ipython3",
   "version": "3.7.3"
  },
  "nteract": {
   "version": "0.23.3"
  }
 },
 "nbformat": 4,
 "nbformat_minor": 2
}
