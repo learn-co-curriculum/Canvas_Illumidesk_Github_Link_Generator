{
 "cells": [
  {
   "cell_type": "markdown",
   "metadata": {},
   "source": [
    "# Assignment Link Generator w/ `git`\n",
    "\n",
    "## Overview\n",
    "\n",
    "The following steps take place when the user clicks on a link when generates a launch request:\n",
    "\n",
    "1. A user session is initiated with the LTI 1.3 login initation flow.\n",
    "2. The git repository referred to in the link is cloned, fetched, and merged into the user's home directory and, optionally, a target directory within the user's home directory.\n",
    "3. If the repo is private (set with the `is_private` option), then the service with authenticate with the private repo on the user's behalf using the repo's valid username and token.\n",
    "3. If a target path (`targetPath`) is specified, the repo is cloned into the specified target path.\n",
    "4. The `depth` specifies the number of commits in the `git history` to clone.\n",
    "5. The `branch` specifies the git source branch to fetch from.\n",
    "5. If a file path is added to the `urlpath` argument, then the user is redirected to the file specified by the path and file name.\n",
    "\n",
    "\n",
    "> ### NOTE: Canvas LMS: Assignment Links vs Custom Fields\n",
    "\n",
    "> The Canvas LMS expects the assignment link to include URL encoded parameters since the request is sent to the External Tool as a POST request (in this case IllumiDesk is the External Tool). However, all characters after the domain and `next=` part should be encoded, even those that are usually considered safe, such as `/`, `&`, and `=`.\n",
    "\n",
    "> The `Custom Fields` text box in the `App -> Settings` section, on the other hand, does not expect all characters to be URL encoded. The `/` characters that are assigned as query parameter values should be encoded, but not the `&` and `=` characters.\n",
    "\n",
    "## Usage\n",
    "\n",
    "### Toggles\n",
    "\n",
    "- `is_assignment_link`: by checking the `is_assignment_link` the link is created with fully encoded values including the `&` and `=` characters. Some LMS's, such as the Canvas LMS, require assignment links encoded this way.\n",
    "- `is_jupyterlab`: by toggling the `is_jupyterlab` checkbox the user will either open a `Jupyter Lab` workspace or, if unchecked, open the `Jupyter Classic` interface.\n",
    "- `is_private`: when checked, this allows users to add their username and git token to clone content located in private repos.\n",
    "\n",
    "### Fields\n",
    "\n",
    "- **Branch (branch)**: the branch the git/clone/merge steps should reference. Defaults to `master`.\n",
    "- **Repository URL (repo_url)**: git repo source URL or folder. If you enter a folder name, then this folder should be accesible from the student's environment, such as the `shared` directory.\n",
    "- **URL Path (url_path)**: The URL path the user should navigate after completing the git fetch/merge task. If a folder and file are specified, then the user will open the `*.ipynb` file itself.\n",
    "\n",
    "Only applicable if **is_private** is `True` (checked):\n",
    "\n",
    "- **Git Username (git_username)**: the git username. Applicable only with the repo is private.\n",
    "- **Git Password (git_password)**: the git password. Applicable only with the repo is private."
   ]
  },
  {
   "cell_type": "code",
   "execution_count": 2,
   "metadata": {},
   "outputs": [
    {
     "data": {
      "application/vnd.jupyter.widget-view+json": {
       "model_id": "fa4523c172a54fc89764273c7d760092",
       "version_major": 2,
       "version_minor": 0
      },
      "text/plain": [
       "interactive(children=(Checkbox(value=True, description='is_assignment_link'), Checkbox(value=False, descriptio…"
      ]
     },
     "metadata": {},
     "output_type": "display_data"
    }
   ],
   "source": [
    "import os\n",
    "from ipywidgets import interact\n",
    "from urllib.parse import urlunparse, urlparse, urlencode, parse_qs, parse_qsl, quote\n",
    "from IPython.display import Markdown\n",
    "\n",
    "\n",
    "@interact\n",
    "def make_launch_link(is_assignment_link=True, is_jupyterlab=False, is_private=False, git_username='<only applicable if is_private>', git_token='<only applicable if is_private>', branch='master', illumidesk_url='https://flatiron.illumidesk.com', repo_url='https://github.com/foobar/myrepo', urlpath='myrepo/notebook_01.ipynb'):\n",
    "    \"\"\"\n",
    "    Generate a launch request which clones and merges source files from a git-based\n",
    "    repository.\n",
    "    \"\"\"\n",
    "\n",
    "    # Parse the query to its constituent parts\n",
    "    domain_scheme, domain_netloc, domain_path, domain_params, domain_query_str, domain_fragment = urlparse(illumidesk_url.strip())\n",
    "    \n",
    "    repo_scheme, repo_netloc, repo_path, repo_params, repo_query_str, repo_fragment = urlparse(repo_url.strip())\n",
    "    folder_from_repo_url_path = os.path.basename(os.path.normpath(repo_path))\n",
    "    \n",
    "    # Make sure the path doesn't contain multiple slashes\n",
    "    if not domain_path.endswith('/'):\n",
    "        domain_path += '/'\n",
    "    domain_path += 'user-redirect/git-pull'\n",
    "    \n",
    "    # With Canvas using LTI 11 Assignment launch requests all characters after the netloc are considered unsafe.\n",
    "    # When adding custom parameters within the App Settings -> Custom Fields section, only items after the \n",
    "    path_encoded = ''\n",
    "    if is_assignment_link:\n",
    "        path_encoded = quote(domain_path, safe='')\n",
    "    else:\n",
    "        path_encoded = quote(domain_path)\n",
    "\n",
    "    path_redirect_url = f'next={path_encoded}'\n",
    "    assignment_link_path = f'/hub?next={path_encoded}'\n",
    "    \n",
    "    # Create a tuple of query params from original domain link\n",
    "    query_params_from_illumidesk_url = parse_qsl(domain_query_str, keep_blank_values=True)\n",
    "    \n",
    "    # Set path based on whether or not the user would like to spawn JupyterLab or Jupyter Classic\n",
    "    urlpath_workspace = ''\n",
    "    if is_jupyterlab:\n",
    "        urlpath_workspace = f'lab/tree/{folder_from_repo_url_path}/{urlpath}?autodecode'\n",
    "    else:\n",
    "        urlpath_workspace = f'tree/{folder_from_repo_url_path}/{urlpath}'\n",
    "    \n",
    "    # Create a tuple of query params for git functionality. Check whether or not we want to launch with\n",
    "    # jupyterlab to add additional items to the path.\n",
    "    query_params_for_git = [('repo', repo_url), ('branch', branch), ('urlpath', urlpath_workspace)]\n",
    "    if is_private:\n",
    "        query_params_for_git = [('repo', repo_url), (git_username, ''), (git_token, ''), ('branch', branch), ('urlpath', urlpath_workspace)]\n",
    "    \n",
    "    # Merge query params into one list of tuples\n",
    "    query_params_all = query_params_from_illumidesk_url + query_params_for_git\n",
    "    \n",
    "    # First build urlencoded query params where the &, =, and / are considered safe. Then, percent encode\n",
    "    # all characters.\n",
    "    encoded_query_params = urlencode(query_params_all)\n",
    "    encoded_query_params_without_safe_chars = quote(urlencode(query_params_all), safe='')\n",
    "    \n",
    "    assignment_link_url = urlunparse((domain_scheme, domain_netloc, assignment_link_path, domain_params, encoded_query_params_without_safe_chars, domain_fragment))\n",
    "    \n",
    "    path_url = urlunparse(('', '', path_redirect_url, domain_params, encoded_query_params, domain_fragment))\n",
    "    if is_assignment_link:\n",
    "        return assignment_link_url\n",
    "    return path_url\n"
   ]
  },
  {
   "cell_type": "code",
   "execution_count": null,
   "metadata": {},
   "outputs": [],
   "source": []
  },
  {
   "cell_type": "code",
   "execution_count": null,
   "metadata": {},
   "outputs": [],
   "source": []
  }
 ],
 "metadata": {
  "kernelspec": {
   "display_name": "Python 3",
   "language": "python",
   "name": "python3"
  },
  "language_info": {
   "codemirror_mode": {
    "name": "ipython",
    "version": 3
   },
   "file_extension": ".py",
   "mimetype": "text/x-python",
   "name": "python",
   "nbconvert_exporter": "python",
   "pygments_lexer": "ipython3",
   "version": "3.7.6"
  },
  "nteract": {
   "version": "0.24.1"
  }
 },
 "nbformat": 4,
 "nbformat_minor": 4
}
